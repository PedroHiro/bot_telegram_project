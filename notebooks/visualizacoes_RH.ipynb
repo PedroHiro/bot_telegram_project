{
 "cells": [
  {
   "cell_type": "code",
   "execution_count": 1,
   "metadata": {},
   "outputs": [],
   "source": [
    "import pandas as pd\n",
    "import numpy as np\n",
    "import matplotlib.pyplot as plt"
   ]
  },
  {
   "cell_type": "code",
   "execution_count": 28,
   "metadata": {},
   "outputs": [
    {
     "data": {
      "text/html": [
       "<div>\n",
       "<style scoped>\n",
       "    .dataframe tbody tr th:only-of-type {\n",
       "        vertical-align: middle;\n",
       "    }\n",
       "\n",
       "    .dataframe tbody tr th {\n",
       "        vertical-align: top;\n",
       "    }\n",
       "\n",
       "    .dataframe thead th {\n",
       "        text-align: right;\n",
       "    }\n",
       "</style>\n",
       "<table border=\"1\" class=\"dataframe\">\n",
       "  <thead>\n",
       "    <tr style=\"text-align: right;\">\n",
       "      <th></th>\n",
       "      <th>Cargo</th>\n",
       "      <th>Setor</th>\n",
       "      <th>Salário Bruto</th>\n",
       "      <th>Tipo de Contratação</th>\n",
       "      <th>Carga Horária por dia</th>\n",
       "      <th>Formação</th>\n",
       "      <th>Idade</th>\n",
       "      <th>NPS interno</th>\n",
       "    </tr>\n",
       "  </thead>\n",
       "  <tbody>\n",
       "    <tr>\n",
       "      <th>0</th>\n",
       "      <td>Cientista de Dados</td>\n",
       "      <td>Dados</td>\n",
       "      <td>6000</td>\n",
       "      <td>CLT</td>\n",
       "      <td>8</td>\n",
       "      <td>Bacharel</td>\n",
       "      <td>24</td>\n",
       "      <td>9</td>\n",
       "    </tr>\n",
       "    <tr>\n",
       "      <th>1</th>\n",
       "      <td>Cientista de Dados</td>\n",
       "      <td>Dados</td>\n",
       "      <td>6500</td>\n",
       "      <td>CLT</td>\n",
       "      <td>8</td>\n",
       "      <td>Bacharel</td>\n",
       "      <td>26</td>\n",
       "      <td>9,6</td>\n",
       "    </tr>\n",
       "    <tr>\n",
       "      <th>2</th>\n",
       "      <td>Analista de Dados</td>\n",
       "      <td>Dados</td>\n",
       "      <td>5000</td>\n",
       "      <td>CLT</td>\n",
       "      <td>8</td>\n",
       "      <td>Bacharel</td>\n",
       "      <td>29</td>\n",
       "      <td>8</td>\n",
       "    </tr>\n",
       "    <tr>\n",
       "      <th>3</th>\n",
       "      <td>Analista de Dados</td>\n",
       "      <td>Dados</td>\n",
       "      <td>5800</td>\n",
       "      <td>CLT</td>\n",
       "      <td>8</td>\n",
       "      <td>Bacharel</td>\n",
       "      <td>36</td>\n",
       "      <td>9</td>\n",
       "    </tr>\n",
       "    <tr>\n",
       "      <th>4</th>\n",
       "      <td>Analista de Dados</td>\n",
       "      <td>Dados</td>\n",
       "      <td>7000</td>\n",
       "      <td>CLT</td>\n",
       "      <td>8</td>\n",
       "      <td>Bacharel</td>\n",
       "      <td>32</td>\n",
       "      <td>9,4</td>\n",
       "    </tr>\n",
       "    <tr>\n",
       "      <th>...</th>\n",
       "      <td>...</td>\n",
       "      <td>...</td>\n",
       "      <td>...</td>\n",
       "      <td>...</td>\n",
       "      <td>...</td>\n",
       "      <td>...</td>\n",
       "      <td>...</td>\n",
       "      <td>...</td>\n",
       "    </tr>\n",
       "    <tr>\n",
       "      <th>67</th>\n",
       "      <td>Gerente de Marketing</td>\n",
       "      <td>Marketing</td>\n",
       "      <td>6000</td>\n",
       "      <td>CLT</td>\n",
       "      <td>8</td>\n",
       "      <td>Bacharel</td>\n",
       "      <td>46</td>\n",
       "      <td>9</td>\n",
       "    </tr>\n",
       "    <tr>\n",
       "      <th>68</th>\n",
       "      <td>Coordenador de Marketing</td>\n",
       "      <td>Marketing</td>\n",
       "      <td>8000</td>\n",
       "      <td>CLT</td>\n",
       "      <td>8</td>\n",
       "      <td>Bacharel</td>\n",
       "      <td>45</td>\n",
       "      <td>9</td>\n",
       "    </tr>\n",
       "    <tr>\n",
       "      <th>69</th>\n",
       "      <td>Gerente Comercial</td>\n",
       "      <td>Marketing</td>\n",
       "      <td>8000</td>\n",
       "      <td>CLT</td>\n",
       "      <td>8</td>\n",
       "      <td>Bacharel</td>\n",
       "      <td>32</td>\n",
       "      <td>9,4</td>\n",
       "    </tr>\n",
       "    <tr>\n",
       "      <th>70</th>\n",
       "      <td>Gerente Comercial</td>\n",
       "      <td>Marketing</td>\n",
       "      <td>8000</td>\n",
       "      <td>CLT</td>\n",
       "      <td>8</td>\n",
       "      <td>Bacharel</td>\n",
       "      <td>40</td>\n",
       "      <td>9,6</td>\n",
       "    </tr>\n",
       "    <tr>\n",
       "      <th>71</th>\n",
       "      <td>Gerente Comercial</td>\n",
       "      <td>Marketing</td>\n",
       "      <td>8000</td>\n",
       "      <td>CLT</td>\n",
       "      <td>8</td>\n",
       "      <td>Bacharel</td>\n",
       "      <td>23</td>\n",
       "      <td>8,5</td>\n",
       "    </tr>\n",
       "  </tbody>\n",
       "</table>\n",
       "<p>72 rows × 8 columns</p>\n",
       "</div>"
      ],
      "text/plain": [
       "                       Cargo      Setor  Salário Bruto Tipo de Contratação  \\\n",
       "0         Cientista de Dados      Dados           6000                 CLT   \n",
       "1         Cientista de Dados      Dados           6500                 CLT   \n",
       "2          Analista de Dados      Dados           5000                 CLT   \n",
       "3          Analista de Dados      Dados           5800                 CLT   \n",
       "4          Analista de Dados      Dados           7000                 CLT   \n",
       "..                       ...        ...            ...                 ...   \n",
       "67      Gerente de Marketing  Marketing           6000                 CLT   \n",
       "68  Coordenador de Marketing  Marketing           8000                 CLT   \n",
       "69         Gerente Comercial  Marketing           8000                 CLT   \n",
       "70         Gerente Comercial  Marketing           8000                 CLT   \n",
       "71         Gerente Comercial  Marketing           8000                 CLT   \n",
       "\n",
       "    Carga Horária por dia  Formação  Idade NPS interno  \n",
       "0                       8  Bacharel     24           9  \n",
       "1                       8  Bacharel     26         9,6  \n",
       "2                       8  Bacharel     29           8  \n",
       "3                       8  Bacharel     36           9  \n",
       "4                       8  Bacharel     32         9,4  \n",
       "..                    ...       ...    ...         ...  \n",
       "67                      8  Bacharel     46           9  \n",
       "68                      8  Bacharel     45           9  \n",
       "69                      8  Bacharel     32         9,4  \n",
       "70                      8  Bacharel     40         9,6  \n",
       "71                      8  Bacharel     23         8,5  \n",
       "\n",
       "[72 rows x 8 columns]"
      ]
     },
     "execution_count": 28,
     "metadata": {},
     "output_type": "execute_result"
    }
   ],
   "source": [
    "file = pd.read_csv(\"../data/raw/Avaliacao_Mensal_Funcionarios.csv\")\n",
    "file"
   ]
  },
  {
   "cell_type": "code",
   "execution_count": 30,
   "metadata": {},
   "outputs": [],
   "source": [
    "file['NPS interno'] = file['NPS interno'].str.replace(',', '.').astype('float')"
   ]
  },
  {
   "cell_type": "code",
   "execution_count": 31,
   "metadata": {},
   "outputs": [
    {
     "name": "stdout",
     "output_type": "stream",
     "text": [
      "<class 'pandas.core.frame.DataFrame'>\n",
      "RangeIndex: 72 entries, 0 to 71\n",
      "Data columns (total 8 columns):\n",
      " #   Column                 Non-Null Count  Dtype  \n",
      "---  ------                 --------------  -----  \n",
      " 0   Cargo                  72 non-null     object \n",
      " 1   Setor                  72 non-null     object \n",
      " 2   Salário Bruto          72 non-null     int64  \n",
      " 3   Tipo de Contratação    72 non-null     object \n",
      " 4   Carga Horária por dia  72 non-null     int64  \n",
      " 5   Formação               72 non-null     object \n",
      " 6   Idade                  72 non-null     int64  \n",
      " 7   NPS interno            72 non-null     float64\n",
      "dtypes: float64(1), int64(3), object(4)\n",
      "memory usage: 4.6+ KB\n"
     ]
    }
   ],
   "source": [
    "file.info()"
   ]
  },
  {
   "cell_type": "code",
   "execution_count": 9,
   "metadata": {},
   "outputs": [],
   "source": [
    "file.Setor = file.Setor.replace(\"Engenheiro de Software\", \"Engenharia de Software\")"
   ]
  },
  {
   "cell_type": "code",
   "execution_count": 21,
   "metadata": {},
   "outputs": [
    {
     "data": {
      "image/png": "[encoded data removed]",
      "text/plain": [
       "<Figure size 432x288 with 1 Axes>"
      ]
     },
     "metadata": {
      "needs_background": "light"
     },
     "output_type": "display_data"
    }
   ],
   "source": [
    "setores = file.groupby([\"Setor\"]).mean()[\"NPS interno\"].index\n",
    "nps_medio_por_setor = file.groupby([\"Setor\"]).mean()[\"NPS interno\"].values\n",
    "\n",
    "plt.bar(setores, nps_medio_por_setor)\n",
    "plt.ylabel(\"NPS interno médio mensal\")\n",
    "plt.xticks(rotation = 30)\n",
    "plt.yticks(np.array(range(0,11,1)))\n",
    "plt.title(\"Média NPS interno mensal médio por setor\");"
   ]
  },
  {
   "cell_type": "code",
   "execution_count": 23,
   "metadata": {},
   "outputs": [
    {
     "data": {
      "image/png": "[encoded data removed]",
      "text/plain": [
       "<Figure size 432x288 with 1 Axes>"
      ]
     },
     "metadata": {
      "needs_background": "light"
     },
     "output_type": "display_data"
    }
   ],
   "source": [
    "tipo_contratacao = file.groupby([\"Tipo de Contratação\"]).mean()[\"NPS interno\"].index\n",
    "nps_medio_por_tipo_contratacao = file.groupby([\"Tipo de Contratação\"]).mean()[\"NPS interno\"].values\n",
    "\n",
    "plt.bar(tipo_contratacao, nps_medio_por_tipo_contratacao)\n",
    "plt.ylabel(\"NPS interno médio mensal\")\n",
    "plt.xticks(rotation = 30)\n",
    "plt.yticks(np.array(range(0,11,1)))\n",
    "plt.title(\"Média NPS interno mensal médio por tipo_contratacao\");"
   ]
  },
  {
   "cell_type": "code",
   "execution_count": 27,
   "metadata": {},
   "outputs": [
    {
     "data": {
      "image/png": "[encoded data removed]",
      "text/plain": [
       "<Figure size 432x288 with 1 Axes>"
      ]
     },
     "metadata": {
      "needs_background": "light"
     },
     "output_type": "display_data"
    }
   ],
   "source": [
    "plt.hist(file[\"NPS interno\"])\n",
    "plt.title(\"Distribuição do NPS interno mensal\")\n",
    "plt.xlabel(\"NPS interno\");"
   ]
  },
  {
   "cell_type": "code",
   "execution_count": null,
   "metadata": {},
   "outputs": [],
   "source": []
  }
 ],
 "metadata": {
  "interpreter": {
   "hash": "9f27538263f2b06562ba4c3e17832466b72ccd68c529f4ccd732119dafa958f1"
  },
  "kernelspec": {
   "display_name": "Python 3.10.1 64-bit",
   "language": "python",
   "name": "python3"
  },
  "language_info": {
   "codemirror_mode": {
    "name": "ipython",
    "version": 3
   },
   "file_extension": ".py",
   "mimetype": "text/x-python",
   "name": "python",
   "nbconvert_exporter": "python",
   "pygments_lexer": "ipython3",
   "version": "3.10.1"
  },
  "orig_nbformat": 4
 },
 "nbformat": 4,
 "nbformat_minor": 2
}
